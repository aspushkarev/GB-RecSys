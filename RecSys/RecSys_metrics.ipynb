{
  "nbformat": 4,
  "nbformat_minor": 0,
  "metadata": {
    "colab": {
      "provenance": []
    },
    "kernelspec": {
      "name": "python3",
      "display_name": "Python 3"
    },
    "language_info": {
      "name": "python"
    }
  },
  "cells": [
    {
      "cell_type": "markdown",
      "source": [
        "# ML-mетрики качества"
      ],
      "metadata": {
        "id": "lR3SDUEfHdmn"
      }
    },
    {
      "cell_type": "markdown",
      "source": [
        "**1. Hit rate**"
      ],
      "metadata": {
        "id": "TxyaZ4gXMqol"
      }
    },
    {
      "cell_type": "code",
      "source": [
        "import numpy as np\n",
        "import pandas as pd"
      ],
      "metadata": {
        "id": "HbO9FDjGHwYM"
      },
      "execution_count": 558,
      "outputs": []
    },
    {
      "cell_type": "code",
      "execution_count": 559,
      "metadata": {
        "id": "t5VvwJSGHTjP"
      },
      "outputs": [],
      "source": [
        "recommended_list = [143, 156, 1134, 991, 27, 1543, 3345, 533, 11, 43] #id товаров\n",
        "bought_list = [521, 32, 143, 27, 991]"
      ]
    },
    {
      "cell_type": "code",
      "source": [
        "def hit_rate(recommended_list, bought_list):\n",
        "\n",
        "  bought_list = np.array(bought_list)\n",
        "  recommended_list = np.array(recommended_list)\n",
        "  \n",
        "  flags = np.isin(bought_list, recommended_list)\n",
        "  \n",
        "  hit_rate = flags.sum()\n",
        "  \n",
        "  return hit_rate"
      ],
      "metadata": {
        "id": "NRnARkwoHlV-"
      },
      "execution_count": 560,
      "outputs": []
    },
    {
      "cell_type": "code",
      "source": [
        "hit_rate(recommended_list, bought_list)"
      ],
      "metadata": {
        "colab": {
          "base_uri": "https://localhost:8080/"
        },
        "id": "HDBVW5KrImX8",
        "outputId": "af1581b2-6b0e-4452-9e25-cb6afd6d081c"
      },
      "execution_count": 561,
      "outputs": [
        {
          "output_type": "execute_result",
          "data": {
            "text/plain": [
              "3"
            ]
          },
          "metadata": {},
          "execution_count": 561
        }
      ]
    },
    {
      "cell_type": "code",
      "source": [
        "def hit_rate_at_k(recommended_list, bought_list, k):\n",
        "  \n",
        "  bought_list = np.array(bought_list)\n",
        "  recommended_list = np.array(recommended_list[:k])\n",
        "\n",
        "  flags = np.isin(bought_list, recommended_list)\n",
        "  \n",
        "  hit_rate_at_k = flags.sum()\n",
        "  \n",
        "  return hit_rate_at_k"
      ],
      "metadata": {
        "id": "cBQZvEYpHre8"
      },
      "execution_count": 562,
      "outputs": []
    },
    {
      "cell_type": "code",
      "source": [
        "hit_rate_at_k(recommended_list, bought_list, k=4)"
      ],
      "metadata": {
        "colab": {
          "base_uri": "https://localhost:8080/"
        },
        "id": "V2Cc7eVCJLlz",
        "outputId": "fd0b67e6-edf9-40f2-dd60-f9e1ebd65f86"
      },
      "execution_count": 563,
      "outputs": [
        {
          "output_type": "execute_result",
          "data": {
            "text/plain": [
              "2"
            ]
          },
          "metadata": {},
          "execution_count": 563
        }
      ]
    },
    {
      "cell_type": "markdown",
      "source": [
        "2. **Presicion**"
      ],
      "metadata": {
        "id": "OTPqoxs6MydN"
      }
    },
    {
      "cell_type": "code",
      "source": [
        "def precision(recommended_list, bought_list):\n",
        "    \n",
        "  bought_list = np.array(bought_list)\n",
        "  recommended_list = np.array(recommended_list)\n",
        "  \n",
        "  flags = np.isin(bought_list, recommended_list)\n",
        "  \n",
        "  precision = flags.sum() / len(recommended_list)\n",
        "  \n",
        "  return precision"
      ],
      "metadata": {
        "id": "S22hc2N4M3rT"
      },
      "execution_count": 564,
      "outputs": []
    },
    {
      "cell_type": "code",
      "source": [
        "precision(recommended_list, bought_list)"
      ],
      "metadata": {
        "colab": {
          "base_uri": "https://localhost:8080/"
        },
        "id": "7gTR1zWbNEGI",
        "outputId": "d92604ed-fbf8-4ee8-f2b3-4cc8089f99da"
      },
      "execution_count": 565,
      "outputs": [
        {
          "output_type": "execute_result",
          "data": {
            "text/plain": [
              "0.3"
            ]
          },
          "metadata": {},
          "execution_count": 565
        }
      ]
    },
    {
      "cell_type": "code",
      "source": [
        "def precision_at_k(recommended_list, bought_list, k):\n",
        "    \n",
        "  bought_list = np.array(bought_list)\n",
        "  recommended_list = np.array(recommended_list)\n",
        "  \n",
        "  recommended_list = recommended_list[:k]\n",
        "  \n",
        "  flags = np.isin(bought_list, recommended_list)\n",
        "  \n",
        "  precision = flags.sum() / len(recommended_list)\n",
        "  \n",
        "  \n",
        "  return precision"
      ],
      "metadata": {
        "id": "xkMm3MV-NKIW"
      },
      "execution_count": 566,
      "outputs": []
    },
    {
      "cell_type": "code",
      "source": [
        "precision_at_k(recommended_list, bought_list, k=5)"
      ],
      "metadata": {
        "colab": {
          "base_uri": "https://localhost:8080/"
        },
        "id": "Lv1410u6NcpO",
        "outputId": "fe26561b-6efc-42dc-ed49-fe644995d05c"
      },
      "execution_count": 567,
      "outputs": [
        {
          "output_type": "execute_result",
          "data": {
            "text/plain": [
              "0.6"
            ]
          },
          "metadata": {},
          "execution_count": 567
        }
      ]
    },
    {
      "cell_type": "code",
      "source": [
        "round(precision_at_k(recommended_list, bought_list, k=3), 1)"
      ],
      "metadata": {
        "colab": {
          "base_uri": "https://localhost:8080/"
        },
        "id": "_tRdFldxN6Yb",
        "outputId": "66a0e83e-3ab0-408f-d171-72474bd5cac7"
      },
      "execution_count": 568,
      "outputs": [
        {
          "output_type": "execute_result",
          "data": {
            "text/plain": [
              "0.3"
            ]
          },
          "metadata": {},
          "execution_count": 568
        }
      ]
    },
    {
      "cell_type": "code",
      "source": [
        "def money_precision_at_k(recommended_list, bought_list, prices_recommended, k):\n",
        "        \n",
        "  bought_list = np.array(bought_list)\n",
        "  recommended_list = np.array(recommended_list[:k])\n",
        "  prices_recommended = np.array(prices_recommended)\n",
        "  \n",
        "  flags = np.isin(bought_list, recommended_list)\n",
        "  \n",
        "  money_precision_at_k = sum(list(map(lambda x, y: x * y, flags, prices_recommended))) / sum(prices_recommended)\n",
        "    \n",
        "  return money_precision_at_k * 100"
      ],
      "metadata": {
        "id": "ETDpuYklTc8V"
      },
      "execution_count": 569,
      "outputs": []
    },
    {
      "cell_type": "code",
      "source": [
        "prices_recommended = [400, 60, 40, 40 , 90]"
      ],
      "metadata": {
        "id": "thEvBI8c9CBC"
      },
      "execution_count": 570,
      "outputs": []
    },
    {
      "cell_type": "code",
      "source": [
        "round(money_precision_at_k(recommended_list, bought_list, prices_recommended, k=5), 2)"
      ],
      "metadata": {
        "colab": {
          "base_uri": "https://localhost:8080/"
        },
        "id": "F0a_we4_Yjjt",
        "outputId": "42fb5704-5810-4b35-97c4-745fd7e05732"
      },
      "execution_count": 571,
      "outputs": [
        {
          "output_type": "execute_result",
          "data": {
            "text/plain": [
              "26.98"
            ]
          },
          "metadata": {},
          "execution_count": 571
        }
      ]
    },
    {
      "cell_type": "markdown",
      "source": [
        "3. **Recall**"
      ],
      "metadata": {
        "id": "U274sfUdORvP"
      }
    },
    {
      "cell_type": "code",
      "source": [
        "def recall(recommended_list, bought_list):\n",
        "    \n",
        "  bought_list = np.array(bought_list)\n",
        "  recommended_list = np.array(recommended_list)\n",
        "  \n",
        "  flags = np.isin(bought_list, recommended_list)\n",
        "  \n",
        "  recall = flags.sum() / len(bought_list)\n",
        "  \n",
        "  return recall"
      ],
      "metadata": {
        "id": "L4HW76LgOIUc"
      },
      "execution_count": 572,
      "outputs": []
    },
    {
      "cell_type": "code",
      "source": [
        "recall(recommended_list, bought_list)"
      ],
      "metadata": {
        "colab": {
          "base_uri": "https://localhost:8080/"
        },
        "id": "XwEcYtmaOdc_",
        "outputId": "27191532-de73-420f-9bd5-db1a55e3bf22"
      },
      "execution_count": 573,
      "outputs": [
        {
          "output_type": "execute_result",
          "data": {
            "text/plain": [
              "0.6"
            ]
          },
          "metadata": {},
          "execution_count": 573
        }
      ]
    },
    {
      "cell_type": "code",
      "source": [
        "def recall_at_k(recommended_list, bought_list, k):\n",
        "    \n",
        "  bought_list = np.array(bought_list)\n",
        "  recommended_list = np.array(recommended_list[:k])\n",
        "  \n",
        "  flags = np.isin(bought_list, recommended_list)\n",
        "  \n",
        "  recall_at_k = flags.sum() / len(bought_list)\n",
        "\n",
        "  return recall_at_k"
      ],
      "metadata": {
        "id": "ML_V7OhQPfcm"
      },
      "execution_count": 574,
      "outputs": []
    },
    {
      "cell_type": "code",
      "source": [
        "recall_at_k(recommended_list, bought_list, k=2)"
      ],
      "metadata": {
        "colab": {
          "base_uri": "https://localhost:8080/"
        },
        "id": "ErcjJo4fP4uL",
        "outputId": "ce6d60c3-c1d3-4562-cf7a-204d6b287166"
      },
      "execution_count": 575,
      "outputs": [
        {
          "output_type": "execute_result",
          "data": {
            "text/plain": [
              "0.2"
            ]
          },
          "metadata": {},
          "execution_count": 575
        }
      ]
    },
    {
      "cell_type": "code",
      "source": [
        "prices_recommended = [400, 60, 40, 40, 90]\n",
        "prices_bought = [400, 50, 30, 40, 70]"
      ],
      "metadata": {
        "id": "BA8zszzxQtNF"
      },
      "execution_count": 576,
      "outputs": []
    },
    {
      "cell_type": "code",
      "source": [
        "def money_recall_at_k(recommended_list, bought_list, prices_recommended, prices_bought, k):\n",
        "    \n",
        "  bought_list = np.array(bought_list)\n",
        "  recommended_list = np.array(recommended_list[:k])\n",
        "\n",
        "  prices_recommended = np.array(prices_recommended)\n",
        "  prices_bought = np.array(prices_bought)\n",
        "  \n",
        "  flags = np.isin(bought_list, recommended_list)\n",
        "  \n",
        "  money_recall_at_k = sum(list(map(lambda x, y: x * y, flags, prices_recommended))) / sum(prices_bought)\n",
        "  \n",
        "  return money_recall_at_k * 100"
      ],
      "metadata": {
        "id": "FRcW9AzTQJ1O"
      },
      "execution_count": 577,
      "outputs": []
    },
    {
      "cell_type": "code",
      "source": [
        "round(money_recall_at_k(recommended_list, bought_list, prices_recommended, prices_bought, k=5), 2)"
      ],
      "metadata": {
        "colab": {
          "base_uri": "https://localhost:8080/"
        },
        "id": "AH4V6tgNgiWv",
        "outputId": "4a002e61-7187-4c92-af76-498384ae6604"
      },
      "execution_count": 578,
      "outputs": [
        {
          "output_type": "execute_result",
          "data": {
            "text/plain": [
              "28.81"
            ]
          },
          "metadata": {},
          "execution_count": 578
        }
      ]
    },
    {
      "cell_type": "markdown",
      "source": [
        "# Метрики ранжирования"
      ],
      "metadata": {
        "id": "qSlma99bi4Bj"
      }
    },
    {
      "cell_type": "markdown",
      "source": [
        "## AP@k\n",
        "AP@k - average precision at k\n",
        "\n",
        "$$AP@k = \\frac{1}{r} \\sum{[recommended_{relevant_i}] * precision@k}$$\n",
        "\n",
        "- r - кол-во релевантных среди рекомендованных\n",
        "- Суммируем по всем релевантным товарам\n",
        "- Зависит от порядка рекомендаций"
      ],
      "metadata": {
        "id": "03oU0YM4jRZG"
      }
    },
    {
      "cell_type": "code",
      "source": [
        "def ap_k(recommended_list, bought_list, k):\n",
        "    \n",
        "  bought_list = np.array(bought_list)\n",
        "  recommended_list = np.array(recommended_list[:k])\n",
        "  \n",
        "  flags = np.isin(recommended_list, bought_list)\n",
        "  \n",
        "  if sum(flags) == 0:\n",
        "    return 0\n",
        "  \n",
        "  sum_relevant = 0\n",
        "  for i in range(1, k + 1):\n",
        "\n",
        "    if flags[i - 1] == True:\n",
        "      p_k = precision_at_k(recommended_list, bought_list, k=i)\n",
        "      sum_relevant += p_k\n",
        "  \n",
        "  return sum_relevant / sum(flags)"
      ],
      "metadata": {
        "id": "IFlzRdd4i5Ly"
      },
      "execution_count": 579,
      "outputs": []
    },
    {
      "cell_type": "code",
      "source": [
        "round(ap_k(recommended_list, bought_list, k=5), 2)"
      ],
      "metadata": {
        "colab": {
          "base_uri": "https://localhost:8080/"
        },
        "id": "S_VxPZN4nBv3",
        "outputId": "fd2597e2-b1b3-4fbb-b2ed-f08bb7385ddb"
      },
      "execution_count": 580,
      "outputs": [
        {
          "output_type": "execute_result",
          "data": {
            "text/plain": [
              "0.7"
            ]
          },
          "metadata": {},
          "execution_count": 580
        }
      ]
    },
    {
      "cell_type": "markdown",
      "source": [
        "### MAP@k\n",
        "\n",
        "MAP@k (Mean Average Precision@k)  \n",
        "Среднее AP@k по всем юзерам\n",
        "- Показывает средневзвешенную точность рекомендаций\n",
        "\n",
        "$$MAP@k = \\frac{1}{|U|} \\sum_u{AP_k}$$\n",
        "  \n",
        "|U| - кол-во юзеров"
      ],
      "metadata": {
        "id": "tfkvgHUqpN7f"
      }
    },
    {
      "cell_type": "code",
      "source": [
        "recommended_list = [[143, 156, 1134, 991, 27, 1543, 3345, 533, 11, 43],\n",
        "                    [1520, 14, 473, 503, 531, 862, 58, 12],\n",
        "                    [34, 72, 472, 65, 39, 31, 77, 15]]\n",
        "bought_list = [[521, 32, 143, 27, 991],\n",
        "               [14, 531, 16, 88, 999],\n",
        "               [39, 12, 15, 34, 7]]"
      ],
      "metadata": {
        "id": "QsXApsJk7Ru9"
      },
      "execution_count": 581,
      "outputs": []
    },
    {
      "cell_type": "code",
      "source": [
        "def map_k(recommended_list, bought_list, k):\n",
        "    \n",
        "  result = 0\n",
        "  for user in range(len(recommended_list)):\n",
        "    ap_k_user = ap_k(recommended_list[user], bought_list[user], k)\n",
        "    result += ap_k_user\n",
        "  \n",
        "  return result / len(recommended_list)"
      ],
      "metadata": {
        "id": "2Q-WD2-dpRQs"
      },
      "execution_count": 582,
      "outputs": []
    },
    {
      "cell_type": "code",
      "source": [
        "round(map_k(recommended_list, bought_list, k=5), 2)"
      ],
      "metadata": {
        "colab": {
          "base_uri": "https://localhost:8080/"
        },
        "id": "afyC8sqi-out",
        "outputId": "ee7b2570-bb3b-49eb-e24c-9c8ab7b65ae4"
      },
      "execution_count": 583,
      "outputs": [
        {
          "output_type": "execute_result",
          "data": {
            "text/plain": [
              "0.62"
            ]
          },
          "metadata": {},
          "execution_count": 583
        }
      ]
    },
    {
      "cell_type": "markdown",
      "source": [
        "### NDCG@k\n",
        "Normalized discounted cumulative gain\n",
        "\n",
        "$$DCG = \\frac{1}{|r|} \\sum_u{\\frac{[bought fact]}{discount(i)}}$$  \n",
        "\n",
        "$discount(i) = 1$ if $i <= 2$,   \n",
        "$discount(i) = log_2(i)$ if $i > 2$\n",
        "\n",
        "\n",
        "(!) Считаем для первых k рекомендаций   \n",
        "(!) - существуют вариации с другими $discount(i)$  \n",
        "i - ранк рекомендованного товара  \n",
        "|r| - кол-во рекомендованных товаров \n",
        "\n",
        "$$NDCG = \\frac{DCG}{ideal DCG}$$\n"
      ],
      "metadata": {
        "id": "GsmH-otopqKy"
      }
    },
    {
      "cell_type": "markdown",
      "source": [
        "$DCG@5 = \\frac{1}{5}*(1 / 1 + 0 / 2 + 0 / log(3) + 1 / log(4) + 0 / log(5))$  \n",
        "$ideal DCG@5 = \\frac{1}{5}*(1 / 1 + 1 / 2 + 1 / log(3) + 1 / log(4) + 1 / log(5))$  \n",
        "\n",
        "$NDCG = \\frac{DCG}{ideal DCG}$"
      ],
      "metadata": {
        "id": "Ijz05Qkep58H"
      }
    },
    {
      "cell_type": "markdown",
      "source": [
        "### MRR@k\n",
        "Mean Reciprocal Rank\n",
        "\n",
        "- Считаем для первых k рекомендаций\n",
        "- Найти ранк первого релевантного предсказания $k_u$\n",
        "- Посчитать reciprocal rank = $\\frac{1}{k_u}$\n",
        "\n",
        "$$MRR = mean(\\frac{1}{k_u})$$"
      ],
      "metadata": {
        "id": "73vE4Ui4qBbH"
      }
    },
    {
      "cell_type": "code",
      "source": [
        "def reciprocal_rank(recommended_list, bought_list, k):\n",
        "\n",
        "  flags = []\n",
        "  for user in range(len(recommended_list)):\n",
        "    \n",
        "    flag = np.isin(recommended_list[user], bought_list[user])\n",
        "    flags.append(flag[:k])\n",
        "  \n",
        "  return np.mean([1 / (flags[0] + 1) if flag.size else 0 for flag in flags])"
      ],
      "metadata": {
        "id": "qHvs61Yrp66J"
      },
      "execution_count": 584,
      "outputs": []
    },
    {
      "cell_type": "code",
      "source": [
        "reciprocal_rank(recommended_list, bought_list, k=4)"
      ],
      "metadata": {
        "colab": {
          "base_uri": "https://localhost:8080/"
        },
        "id": "rtYaxBZraw9_",
        "outputId": "b918aff9-d825-4cbd-f1d0-68443e8b648c"
      },
      "execution_count": 585,
      "outputs": [
        {
          "output_type": "execute_result",
          "data": {
            "text/plain": [
              "0.75"
            ]
          },
          "metadata": {},
          "execution_count": 585
        }
      ]
    }
  ]
}